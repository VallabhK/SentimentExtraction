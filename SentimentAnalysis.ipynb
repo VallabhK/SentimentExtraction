{
  "nbformat": 4,
  "nbformat_minor": 0,
  "metadata": {
    "colab": {
      "name": "SentimentAnalysis.ipynb",
      "provenance": [],
      "authorship_tag": "ABX9TyOeqoWhJi6/Tk3pnaGNcyKr",
      "include_colab_link": true
    },
    "kernelspec": {
      "name": "python3",
      "display_name": "Python 3"
    },
    "language_info": {
      "name": "python"
    }
  },
  "cells": [
    {
      "cell_type": "markdown",
      "metadata": {
        "id": "view-in-github",
        "colab_type": "text"
      },
      "source": [
        "<a href=\"https://colab.research.google.com/github/VallabhK/SentimentExtraction/blob/master/SentimentAnalysis.ipynb\" target=\"_parent\"><img src=\"https://colab.research.google.com/assets/colab-badge.svg\" alt=\"Open In Colab\"/></a>"
      ]
    },
    {
      "cell_type": "markdown",
      "metadata": {
        "id": "ynKy42rL093s"
      },
      "source": [
        "**Sentiment Extraction**\n",
        "This is the program which parses the tweets from Twitter using python and other open source libraries"
      ]
    },
    {
      "cell_type": "code",
      "metadata": {
        "id": "Uk9CAhK11OaU"
      },
      "source": [
        "#Importing all the required libraries\n",
        "import tweepy #Access twitter API \n",
        "from textblob import TextBlob #Process text data\n",
        "from wordcloud import WordCloud\n",
        "import pandas as pd\n",
        "import numpy as np\n",
        "import re\n",
        "import matplotlib.pyplot as plt\n",
        "plt.style.use('fivethirtyeight')"
      ],
      "execution_count": 1,
      "outputs": []
    },
    {
      "cell_type": "code",
      "metadata": {
        "id": "DQM2B2qg16EX"
      },
      "source": [
        "url = 'https://raw.githubusercontent.com/VallabhK/SentimentExtraction/master/config.csv?token=AIB6MQJOQ7PJ52BYLLSIIK3A7BMIC'\n",
        "config = pd.read_csv(url)"
      ],
      "execution_count": 3,
      "outputs": []
    },
    {
      "cell_type": "code",
      "metadata": {
        "id": "de2bDDagKkg5"
      },
      "source": [
        "twitterApiKey = config['twitterApiKey'][0]\n",
        "twitterApiKeySecret = config['twitterApiSecret'][0]\n",
        "twitterApiAccessToken = config['twitterApiAccessToken'][0]\n",
        "twitterApiAccessTokenSecret = config['twitterApiAccessTokenSecret'][0]"
      ],
      "execution_count": 4,
      "outputs": []
    },
    {
      "cell_type": "code",
      "metadata": {
        "id": "BF865wNaPADB"
      },
      "source": [
        "#Create authentication object\n",
        "authenticate = tweepy.OAuthHandler(twitterApiKey, twitterApiKeySecret)\n",
        "\n",
        "#Set access token and secret\n",
        "authenticate.set_access_token(twitterApiAccessToken, twitterApiAccessTokenSecret)\n",
        "\n",
        "#Create the API object while passing in auth information\n",
        "api = tweepy.API(authenticate, wait_on_rate_limit=True)"
      ],
      "execution_count": 5,
      "outputs": []
    },
    {
      "cell_type": "code",
      "metadata": {
        "colab": {
          "base_uri": "https://localhost:8080/"
        },
        "id": "YCu5noo7VMuE",
        "outputId": "e6d0b2de-8c87-4c19-897e-5ef80c9f8f49"
      },
      "source": [
        "#Extract tweets\n",
        "posts= api.user_timeline(screen_name ='BillGates', count =100, lang ='en', tweet_mode ='extended')\n",
        "\n",
        "print(\"Show tweets \\n\")\n",
        "for tweet in posts[0:5]:\n",
        "  print(tweet.full_text + '\\n')"
      ],
      "execution_count": 6,
      "outputs": [
        {
          "output_type": "stream",
          "text": [
            "Show tweets \n",
            "\n",
            "Our foundation joined the polio fight almost 15 years ago. And in all that time, I cannot think of a more important moment than right now. https://t.co/ZUyvSZyzau\n",
            "\n",
            "I look forward to working with you and @EU_Commission on all of these important goals. Europe is a critical partner in creating a net-zero future and ensuring a healthy and equitable world for all. https://t.co/O16waKVVVo\n",
            "\n",
            "RT @EIB: How can we:\n",
            "💨 Boost #greentech growth?\n",
            "🔽 Lower costs?\n",
            "🪙 Help commercialise #sustainable projects faster?\n",
            "\n",
            "President Hoyer met with…\n",
            "\n",
            "Reaching net-zero emissions by 2050 means transforming our entire physical economy and accelerating innovation at an unprecedented pace. @Breakthrough Energy Catalyst will jumpstart this process. https://t.co/MAKM2lAyy0\n",
            "\n",
            "RT @gatesfoundation: Support for polio eradication will not only help wipe out a disease, it will prepare countries against future health t…\n",
            "\n"
          ],
          "name": "stdout"
        }
      ]
    },
    {
      "cell_type": "code",
      "metadata": {
        "id": "eWPpNXKKhztg"
      },
      "source": [
        "#Create a dataframe with all the tweets\n",
        "df =  pd.DataFrame([tweet.full_text for tweet in posts], columns =['Tweets'])"
      ],
      "execution_count": 7,
      "outputs": []
    },
    {
      "cell_type": "code",
      "metadata": {
        "id": "G7ngbIv3knA2"
      },
      "source": [
        "#Clean the tweets\n",
        "def cleanText(text):\n",
        "  text = re.sub(r'@[A-Za-z0-9]+', '', text) # r - expression is a raw string\n",
        "  text = re.sub(r'#','',text) #Remove # symbol\n",
        "  text = re.sub(r'RT[\\s]+','' ,text)\n",
        "  text = re.sub(r'https?:\\/\\/\\S+','', text)\n",
        "  return text"
      ],
      "execution_count": 8,
      "outputs": []
    },
    {
      "cell_type": "code",
      "metadata": {
        "colab": {
          "base_uri": "https://localhost:8080/",
          "height": 419
        },
        "id": "zwuD911JF6nq",
        "outputId": "8e4fac14-aa65-4691-adb9-7ecd4317ea8d"
      },
      "source": [
        "#Cleaning the data frame\n",
        "df['Tweets'] =df['Tweets'].apply(cleanText)\n",
        "df"
      ],
      "execution_count": 9,
      "outputs": [
        {
          "output_type": "execute_result",
          "data": {
            "text/html": [
              "<div>\n",
              "<style scoped>\n",
              "    .dataframe tbody tr th:only-of-type {\n",
              "        vertical-align: middle;\n",
              "    }\n",
              "\n",
              "    .dataframe tbody tr th {\n",
              "        vertical-align: top;\n",
              "    }\n",
              "\n",
              "    .dataframe thead th {\n",
              "        text-align: right;\n",
              "    }\n",
              "</style>\n",
              "<table border=\"1\" class=\"dataframe\">\n",
              "  <thead>\n",
              "    <tr style=\"text-align: right;\">\n",
              "      <th></th>\n",
              "      <th>Tweets</th>\n",
              "    </tr>\n",
              "  </thead>\n",
              "  <tbody>\n",
              "    <tr>\n",
              "      <th>0</th>\n",
              "      <td>Our foundation joined the polio fight almost 1...</td>\n",
              "    </tr>\n",
              "    <tr>\n",
              "      <th>1</th>\n",
              "      <td>I look forward to working with you and _Commis...</td>\n",
              "    </tr>\n",
              "    <tr>\n",
              "      <th>2</th>\n",
              "      <td>: How can we:\\n💨 Boost greentech growth?\\n🔽 Lo...</td>\n",
              "    </tr>\n",
              "    <tr>\n",
              "      <th>3</th>\n",
              "      <td>Reaching net-zero emissions by 2050 means tran...</td>\n",
              "    </tr>\n",
              "    <tr>\n",
              "      <th>4</th>\n",
              "      <td>: Support for polio eradication will not only ...</td>\n",
              "    </tr>\n",
              "    <tr>\n",
              "      <th>...</th>\n",
              "      <td>...</td>\n",
              "    </tr>\n",
              "    <tr>\n",
              "      <th>95</th>\n",
              "      <td>Thanks for inviting me on the podcast, .</td>\n",
              "    </tr>\n",
              "    <tr>\n",
              "      <th>96</th>\n",
              "      <td>: The Weekly Planet: Lately, Bill Gates has be...</td>\n",
              "    </tr>\n",
              "    <tr>\n",
              "      <th>97</th>\n",
              "      <td>Thank you, _RDG. We have a lot of work ahead o...</td>\n",
              "    </tr>\n",
              "    <tr>\n",
              "      <th>98</th>\n",
              "      <td>: At Breakthrough Energy, we don’t just think ...</td>\n",
              "    </tr>\n",
              "    <tr>\n",
              "      <th>99</th>\n",
              "      <td>It was great to talk with  about my new book a...</td>\n",
              "    </tr>\n",
              "  </tbody>\n",
              "</table>\n",
              "<p>100 rows × 1 columns</p>\n",
              "</div>"
            ],
            "text/plain": [
              "                                               Tweets\n",
              "0   Our foundation joined the polio fight almost 1...\n",
              "1   I look forward to working with you and _Commis...\n",
              "2   : How can we:\\n💨 Boost greentech growth?\\n🔽 Lo...\n",
              "3   Reaching net-zero emissions by 2050 means tran...\n",
              "4   : Support for polio eradication will not only ...\n",
              "..                                                ...\n",
              "95          Thanks for inviting me on the podcast, . \n",
              "96  : The Weekly Planet: Lately, Bill Gates has be...\n",
              "97  Thank you, _RDG. We have a lot of work ahead o...\n",
              "98  : At Breakthrough Energy, we don’t just think ...\n",
              "99  It was great to talk with  about my new book a...\n",
              "\n",
              "[100 rows x 1 columns]"
            ]
          },
          "metadata": {
            "tags": []
          },
          "execution_count": 9
        }
      ]
    },
    {
      "cell_type": "code",
      "metadata": {
        "id": "VuvHnUvfGl5g"
      },
      "source": [
        ""
      ],
      "execution_count": null,
      "outputs": []
    }
  ]
}