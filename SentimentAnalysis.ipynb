{
  "nbformat": 4,
  "nbformat_minor": 0,
  "metadata": {
    "colab": {
      "name": "SentimentAnalysis.ipynb",
      "provenance": [],
      "authorship_tag": "ABX9TyPKEekTBGgn9/9GQwb+6aaf",
      "include_colab_link": true
    },
    "kernelspec": {
      "name": "python3",
      "display_name": "Python 3"
    },
    "language_info": {
      "name": "python"
    }
  },
  "cells": [
    {
      "cell_type": "markdown",
      "metadata": {
        "id": "view-in-github",
        "colab_type": "text"
      },
      "source": [
        "<a href=\"https://colab.research.google.com/github/VallabhK/SentimentExtraction/blob/master/SentimentAnalysis.ipynb\" target=\"_parent\"><img src=\"https://colab.research.google.com/assets/colab-badge.svg\" alt=\"Open In Colab\"/></a>"
      ]
    },
    {
      "cell_type": "markdown",
      "metadata": {
        "id": "ynKy42rL093s"
      },
      "source": [
        "**Sentiment Extraction**\n",
        "This is the program which parses the tweets from Twitter using python and other open source libraries"
      ]
    },
    {
      "cell_type": "code",
      "metadata": {
        "id": "Uk9CAhK11OaU"
      },
      "source": [
        "#Importing all the required libraries\n",
        "import tweepy #Access twitter API \n",
        "from textblob import TextBlob #Process text data\n",
        "from wordcloud import WordCloud\n",
        "import pandas as pd\n",
        "import numpy as np\n",
        "import re\n",
        "import matplotlib.pyplot as plt\n",
        "plt.style.use('fivethirtyeight')"
      ],
      "execution_count": 1,
      "outputs": []
    },
    {
      "cell_type": "code",
      "metadata": {
        "id": "DQM2B2qg16EX"
      },
      "source": [
        "url = 'https://raw.githubusercontent.com/VallabhK/SentimentExtraction/master/config.csv?token=AIB6MQM557IF6FYO2BEZVWLA7G26M'\n",
        "config = pd.read_csv(url)"
      ],
      "execution_count": 2,
      "outputs": []
    },
    {
      "cell_type": "code",
      "metadata": {
        "id": "de2bDDagKkg5"
      },
      "source": [
        "twitterApiKey = config['twitterApiKey'][0]\n",
        "twitterApiKeySecret = config['twitterApiSecret'][0]\n",
        "twitterApiAccessToken = config['twitterApiAccessToken'][0]\n",
        "twitterApiAccessTokenSecret = config['twitterApiAccessTokenSecret'][0]"
      ],
      "execution_count": 3,
      "outputs": []
    },
    {
      "cell_type": "code",
      "metadata": {
        "id": "BF865wNaPADB"
      },
      "source": [
        "#Create authentication object\n",
        "authenticate = tweepy.OAuthHandler(twitterApiKey, twitterApiKeySecret)\n",
        "\n",
        "#Set access token and secret\n",
        "authenticate.set_access_token(twitterApiAccessToken, twitterApiAccessTokenSecret)\n",
        "\n",
        "#Create the API object while passing in auth information\n",
        "api = tweepy.API(authenticate, wait_on_rate_limit=True)"
      ],
      "execution_count": 4,
      "outputs": []
    },
    {
      "cell_type": "code",
      "metadata": {
        "colab": {
          "base_uri": "https://localhost:8080/"
        },
        "id": "YCu5noo7VMuE",
        "outputId": "71276d44-d821-420d-d1aa-d9c9143c0ca0"
      },
      "source": [
        "#Extract tweets\n",
        "posts= api.user_timeline(screen_name ='BillGates', count =100, lang ='en', tweet_mode ='extended')\n",
        "\n",
        "print(\"Show tweets \\n\")\n",
        "for tweet in posts[0:5]:\n",
        "  print(tweet.full_text + '\\n')"
      ],
      "execution_count": 5,
      "outputs": [
        {
          "output_type": "stream",
          "text": [
            "Show tweets \n",
            "\n",
            "During the height of the U.S. polio epidemic, the iron lung was one of the greatest tools used to fight polio. Today, it’s the iron will of the thousands of workers and their supporters who are committed to finishing the job. https://t.co/oAzGsIGSUN #endpolio\n",
            "\n",
            "RT @UN: Let us renew our determination to build a strong, sustainable and inclusive recovery from the pandemic, and to take decisive action…\n",
            "\n",
            "Our foundation joined the polio fight almost 15 years ago. And in all that time, I cannot think of a more important moment than right now. https://t.co/ZUyvSZyzau\n",
            "\n",
            "I look forward to working with you and @EU_Commission on all of these important goals. Europe is a critical partner in creating a net-zero future and ensuring a healthy and equitable world for all. https://t.co/O16waKVVVo\n",
            "\n",
            "RT @EIB: How can we:\n",
            "💨 Boost #greentech growth?\n",
            "🔽 Lower costs?\n",
            "🪙 Help commercialise #sustainable projects faster?\n",
            "\n",
            "President Hoyer met with…\n",
            "\n"
          ],
          "name": "stdout"
        }
      ]
    },
    {
      "cell_type": "code",
      "metadata": {
        "id": "eWPpNXKKhztg"
      },
      "source": [
        "#Create a dataframe with all the tweets\n",
        "df =  pd.DataFrame([tweet.full_text for tweet in posts], columns =['Tweets'])"
      ],
      "execution_count": 6,
      "outputs": []
    },
    {
      "cell_type": "code",
      "metadata": {
        "id": "G7ngbIv3knA2"
      },
      "source": [
        "#Clean the tweets\n",
        "def cleanText(text):\n",
        "  text = re.sub(r'@[A-Za-z0-9]+', '', text) # r - expression is a raw string\n",
        "  text = re.sub(r'#','',text) #Remove # symbol\n",
        "  text = re.sub(r'RT[\\s]+','' ,text)\n",
        "  text = re.sub(r'https?:\\/\\/\\S+','', text)\n",
        "  return text"
      ],
      "execution_count": 7,
      "outputs": []
    },
    {
      "cell_type": "code",
      "metadata": {
        "colab": {
          "base_uri": "https://localhost:8080/",
          "height": 419
        },
        "id": "zwuD911JF6nq",
        "outputId": "020a0dc8-49a1-427c-ba47-487c0818470c"
      },
      "source": [
        "#Cleaning the data frame\n",
        "df['Tweets'] =df['Tweets'].apply(cleanText)\n",
        "df"
      ],
      "execution_count": 8,
      "outputs": [
        {
          "output_type": "execute_result",
          "data": {
            "text/html": [
              "<div>\n",
              "<style scoped>\n",
              "    .dataframe tbody tr th:only-of-type {\n",
              "        vertical-align: middle;\n",
              "    }\n",
              "\n",
              "    .dataframe tbody tr th {\n",
              "        vertical-align: top;\n",
              "    }\n",
              "\n",
              "    .dataframe thead th {\n",
              "        text-align: right;\n",
              "    }\n",
              "</style>\n",
              "<table border=\"1\" class=\"dataframe\">\n",
              "  <thead>\n",
              "    <tr style=\"text-align: right;\">\n",
              "      <th></th>\n",
              "      <th>Tweets</th>\n",
              "    </tr>\n",
              "  </thead>\n",
              "  <tbody>\n",
              "    <tr>\n",
              "      <th>0</th>\n",
              "      <td>During the height of the U.S. polio epidemic, ...</td>\n",
              "    </tr>\n",
              "    <tr>\n",
              "      <th>1</th>\n",
              "      <td>: Let us renew our determination to build a st...</td>\n",
              "    </tr>\n",
              "    <tr>\n",
              "      <th>2</th>\n",
              "      <td>Our foundation joined the polio fight almost 1...</td>\n",
              "    </tr>\n",
              "    <tr>\n",
              "      <th>3</th>\n",
              "      <td>I look forward to working with you and _Commis...</td>\n",
              "    </tr>\n",
              "    <tr>\n",
              "      <th>4</th>\n",
              "      <td>: How can we:\\n💨 Boost greentech growth?\\n🔽 Lo...</td>\n",
              "    </tr>\n",
              "    <tr>\n",
              "      <th>...</th>\n",
              "      <td>...</td>\n",
              "    </tr>\n",
              "    <tr>\n",
              "      <th>95</th>\n",
              "      <td>: Bill Gates on Climate Change, Covid and Whet...</td>\n",
              "    </tr>\n",
              "    <tr>\n",
              "      <th>96</th>\n",
              "      <td>When I talk to people about climate change, I ...</td>\n",
              "    </tr>\n",
              "    <tr>\n",
              "      <th>97</th>\n",
              "      <td>Thanks for inviting me on the podcast, .</td>\n",
              "    </tr>\n",
              "    <tr>\n",
              "      <th>98</th>\n",
              "      <td>: The Weekly Planet: Lately, Bill Gates has be...</td>\n",
              "    </tr>\n",
              "    <tr>\n",
              "      <th>99</th>\n",
              "      <td>Thank you, _RDG. We have a lot of work ahead o...</td>\n",
              "    </tr>\n",
              "  </tbody>\n",
              "</table>\n",
              "<p>100 rows × 1 columns</p>\n",
              "</div>"
            ],
            "text/plain": [
              "                                               Tweets\n",
              "0   During the height of the U.S. polio epidemic, ...\n",
              "1   : Let us renew our determination to build a st...\n",
              "2   Our foundation joined the polio fight almost 1...\n",
              "3   I look forward to working with you and _Commis...\n",
              "4   : How can we:\\n💨 Boost greentech growth?\\n🔽 Lo...\n",
              "..                                                ...\n",
              "95  : Bill Gates on Climate Change, Covid and Whet...\n",
              "96  When I talk to people about climate change, I ...\n",
              "97          Thanks for inviting me on the podcast, . \n",
              "98  : The Weekly Planet: Lately, Bill Gates has be...\n",
              "99  Thank you, _RDG. We have a lot of work ahead o...\n",
              "\n",
              "[100 rows x 1 columns]"
            ]
          },
          "metadata": {
            "tags": []
          },
          "execution_count": 8
        }
      ]
    },
    {
      "cell_type": "code",
      "metadata": {
        "id": "VuvHnUvfGl5g",
        "colab": {
          "base_uri": "https://localhost:8080/",
          "height": 419
        },
        "outputId": "849d9d6e-bbef-4a02-cc32-48a8c7689b86"
      },
      "source": [
        "#Calculate subjectivity- How subjective or opinionated the tweet is\n",
        "def getSubjectivity(text):\n",
        "  return TextBlob(text).sentiment.subjectivity\n",
        "\n",
        "#Calculate polarity\n",
        "def getPolarity(text):\n",
        "  return TextBlob(text).sentiment.polarity\n",
        "\n",
        "#Create new columns in dataframe\n",
        "df['Subjectivity'] = df['Tweets'].apply(getSubjectivity)\n",
        "df['Polarity'] = df['Tweets'].apply(getPolarity)\n",
        "\n",
        "df"
      ],
      "execution_count": 9,
      "outputs": [
        {
          "output_type": "execute_result",
          "data": {
            "text/html": [
              "<div>\n",
              "<style scoped>\n",
              "    .dataframe tbody tr th:only-of-type {\n",
              "        vertical-align: middle;\n",
              "    }\n",
              "\n",
              "    .dataframe tbody tr th {\n",
              "        vertical-align: top;\n",
              "    }\n",
              "\n",
              "    .dataframe thead th {\n",
              "        text-align: right;\n",
              "    }\n",
              "</style>\n",
              "<table border=\"1\" class=\"dataframe\">\n",
              "  <thead>\n",
              "    <tr style=\"text-align: right;\">\n",
              "      <th></th>\n",
              "      <th>Tweets</th>\n",
              "      <th>Subjectivity</th>\n",
              "      <th>Polarity</th>\n",
              "    </tr>\n",
              "  </thead>\n",
              "  <tbody>\n",
              "    <tr>\n",
              "      <th>0</th>\n",
              "      <td>During the height of the U.S. polio epidemic, ...</td>\n",
              "      <td>1.000000</td>\n",
              "      <td>1.000000</td>\n",
              "    </tr>\n",
              "    <tr>\n",
              "      <th>1</th>\n",
              "      <td>: Let us renew our determination to build a st...</td>\n",
              "      <td>0.733333</td>\n",
              "      <td>0.433333</td>\n",
              "    </tr>\n",
              "    <tr>\n",
              "      <th>2</th>\n",
              "      <td>Our foundation joined the polio fight almost 1...</td>\n",
              "      <td>0.678571</td>\n",
              "      <td>0.395238</td>\n",
              "    </tr>\n",
              "    <tr>\n",
              "      <th>3</th>\n",
              "      <td>I look forward to working with you and _Commis...</td>\n",
              "      <td>0.606250</td>\n",
              "      <td>0.225000</td>\n",
              "    </tr>\n",
              "    <tr>\n",
              "      <th>4</th>\n",
              "      <td>: How can we:\\n💨 Boost greentech growth?\\n🔽 Lo...</td>\n",
              "      <td>0.000000</td>\n",
              "      <td>0.000000</td>\n",
              "    </tr>\n",
              "    <tr>\n",
              "      <th>...</th>\n",
              "      <td>...</td>\n",
              "      <td>...</td>\n",
              "      <td>...</td>\n",
              "    </tr>\n",
              "    <tr>\n",
              "      <th>95</th>\n",
              "      <td>: Bill Gates on Climate Change, Covid and Whet...</td>\n",
              "      <td>0.200000</td>\n",
              "      <td>0.200000</td>\n",
              "    </tr>\n",
              "    <tr>\n",
              "      <th>96</th>\n",
              "      <td>When I talk to people about climate change, I ...</td>\n",
              "      <td>0.125000</td>\n",
              "      <td>0.000000</td>\n",
              "    </tr>\n",
              "    <tr>\n",
              "      <th>97</th>\n",
              "      <td>Thanks for inviting me on the podcast, .</td>\n",
              "      <td>0.200000</td>\n",
              "      <td>0.200000</td>\n",
              "    </tr>\n",
              "    <tr>\n",
              "      <th>98</th>\n",
              "      <td>: The Weekly Planet: Lately, Bill Gates has be...</td>\n",
              "      <td>0.570833</td>\n",
              "      <td>-0.295833</td>\n",
              "    </tr>\n",
              "    <tr>\n",
              "      <th>99</th>\n",
              "      <td>Thank you, _RDG. We have a lot of work ahead o...</td>\n",
              "      <td>0.500000</td>\n",
              "      <td>0.125000</td>\n",
              "    </tr>\n",
              "  </tbody>\n",
              "</table>\n",
              "<p>100 rows × 3 columns</p>\n",
              "</div>"
            ],
            "text/plain": [
              "                                               Tweets  Subjectivity  Polarity\n",
              "0   During the height of the U.S. polio epidemic, ...      1.000000  1.000000\n",
              "1   : Let us renew our determination to build a st...      0.733333  0.433333\n",
              "2   Our foundation joined the polio fight almost 1...      0.678571  0.395238\n",
              "3   I look forward to working with you and _Commis...      0.606250  0.225000\n",
              "4   : How can we:\\n💨 Boost greentech growth?\\n🔽 Lo...      0.000000  0.000000\n",
              "..                                                ...           ...       ...\n",
              "95  : Bill Gates on Climate Change, Covid and Whet...      0.200000  0.200000\n",
              "96  When I talk to people about climate change, I ...      0.125000  0.000000\n",
              "97          Thanks for inviting me on the podcast, .       0.200000  0.200000\n",
              "98  : The Weekly Planet: Lately, Bill Gates has be...      0.570833 -0.295833\n",
              "99  Thank you, _RDG. We have a lot of work ahead o...      0.500000  0.125000\n",
              "\n",
              "[100 rows x 3 columns]"
            ]
          },
          "metadata": {
            "tags": []
          },
          "execution_count": 9
        }
      ]
    },
    {
      "cell_type": "code",
      "metadata": {
        "id": "LSY-RNaMbMyK"
      },
      "source": [
        ""
      ],
      "execution_count": 9,
      "outputs": []
    }
  ]
}