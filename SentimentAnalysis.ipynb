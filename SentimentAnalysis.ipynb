{
  "nbformat": 4,
  "nbformat_minor": 0,
  "metadata": {
    "colab": {
      "name": "SentimentAnalysis.ipynb",
      "provenance": [],
      "authorship_tag": "ABX9TyNW2whUpHeSc9yaP4wJcVT6",
      "include_colab_link": true
    },
    "kernelspec": {
      "name": "python3",
      "display_name": "Python 3"
    },
    "language_info": {
      "name": "python"
    }
  },
  "cells": [
    {
      "cell_type": "markdown",
      "metadata": {
        "id": "view-in-github",
        "colab_type": "text"
      },
      "source": [
        "<a href=\"https://colab.research.google.com/github/VallabhK/SentimentExtraction/blob/master/SentimentAnalysis.ipynb\" target=\"_parent\"><img src=\"https://colab.research.google.com/assets/colab-badge.svg\" alt=\"Open In Colab\"/></a>"
      ]
    },
    {
      "cell_type": "markdown",
      "metadata": {
        "id": "ynKy42rL093s"
      },
      "source": [
        "**Sentiment Extraction**\n",
        "This is the program which parses the tweets from Twitter using python and other open source libraries"
      ]
    },
    {
      "cell_type": "code",
      "metadata": {
        "id": "Uk9CAhK11OaU"
      },
      "source": [
        "#Importing all the required libraries\n",
        "import tweepy #Access twitter API \n",
        "from textblob import TextBlob #Process text data\n",
        "from wordcloud import WordCloud\n",
        "import pandas as pd\n",
        "import numpy as np\n",
        "import re\n",
        "import matplotlib.pyplot as plt\n",
        "plt.style.use('fivethirtyeight')"
      ],
      "execution_count": 2,
      "outputs": []
    },
    {
      "cell_type": "code",
      "metadata": {
        "id": "DQM2B2qg16EX"
      },
      "source": [
        "url = 'https://raw.githubusercontent.com/VallabhK/SentimentExtraction/master/config.csv?token=AIB6MQIKVUDYIUELZW2T3SDA64LPO'\n",
        "config = pd.read_csv(url)"
      ],
      "execution_count": 11,
      "outputs": []
    },
    {
      "cell_type": "code",
      "metadata": {
        "id": "de2bDDagKkg5"
      },
      "source": [
        "twitterApiKey = config['twitterApiKey'][0]\n",
        "twitterApiKeySecret = config['twitterApiSecret'][0]\n",
        "twitterApiAccessToken = config['twitterApiAccessToken'][0]\n",
        "twitterApiAccessTokenSecret = config['twitterApiAccessTokenSecret'][0]"
      ],
      "execution_count": 17,
      "outputs": []
    },
    {
      "cell_type": "code",
      "metadata": {
        "id": "BF865wNaPADB"
      },
      "source": [
        "#Create authentication object\n",
        "authenticate = tweepy.OAuthHandler(twitterApiKey, twitterApiKeySecret)\n",
        "\n",
        "#Set access token and secret\n",
        "authenticate.set_access_token(twitterApiAccessToken, twitterApiAccessTokenSecret)\n",
        "\n",
        "#Create the API object while passing in auth information\n",
        "api = tweepy.API(authenticate, wait_on_rate_limit=True)"
      ],
      "execution_count": 19,
      "outputs": []
    },
    {
      "cell_type": "code",
      "metadata": {
        "id": "YCu5noo7VMuE"
      },
      "source": [
        ""
      ],
      "execution_count": null,
      "outputs": []
    }
  ]
}